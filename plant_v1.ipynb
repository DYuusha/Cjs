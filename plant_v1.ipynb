{
  "nbformat": 4,
  "nbformat_minor": 0,
  "metadata": {
    "colab": {
      "name": "plant v1.ipynb",
      "provenance": [],
      "collapsed_sections": [],
      "authorship_tag": "ABX9TyM9aZgzckBeiBKYdrmNroNq",
      "include_colab_link": true
    },
    "kernelspec": {
      "name": "python3",
      "display_name": "Python 3"
    },
    "accelerator": "GPU"
  },
  "cells": [
    {
      "cell_type": "markdown",
      "metadata": {
        "id": "view-in-github",
        "colab_type": "text"
      },
      "source": [
        "<a href=\"https://colab.research.google.com/github/DYuusha/Cjs/blob/master/plant_v1.ipynb\" target=\"_parent\"><img src=\"https://colab.research.google.com/assets/colab-badge.svg\" alt=\"Open In Colab\"/></a>"
      ]
    },
    {
      "cell_type": "code",
      "metadata": {
        "id": "KHX9o7Zv8OR6",
        "colab_type": "code",
        "colab": {}
      },
      "source": [
        "#------ Imports --------\n",
        "import tensorflow as tf\n",
        "from tensorflow.keras.preprocessing.image import ImageDataGenerator\n",
        "import os\n",
        "import numpy as np\n",
        "import matplotlib.pyplot as plt\n",
        "import tensorflow_hub as hub\n",
        "from tensorflow.keras.models import Sequential\n",
        "from tensorflow.keras.layers import Dense, Conv2D, Flatten, Dropout, MaxPooling2D\n",
        "from tensorflow.keras import layers\n",
        "import logging\n",
        "logger = tf.get_logger()\n",
        "logger.setLevel(logging.ERROR)\n"
      ],
      "execution_count": null,
      "outputs": []
    },
    {
      "cell_type": "code",
      "metadata": {
        "id": "D4L1SW--8U0I",
        "colab_type": "code",
        "colab": {}
      },
      "source": [
        "_URL = 'https://firebasestorage.googleapis.com/v0/b/agrocare-thesis.appspot.com/o/Plant_leave_diseases_dataset_without_augmentation.zip?alt=media&token=a1af7ba6-932a-43f4-9ddd-ab4dda76d2c7'\n",
        "\n",
        "zip_dir = tf.keras.utils.get_file('Plant_leave_diseases_dataset_without_augmentation.zip', origin=_URL, extract=True)"
      ],
      "execution_count": null,
      "outputs": []
    },
    {
      "cell_type": "code",
      "metadata": {
        "id": "yy51Dh-h0oy6",
        "colab_type": "code",
        "colab": {}
      },
      "source": [
        "base_dir = os.path.join(os.path.dirname(zip_dir), 'Plant_leave_diseases_dataset_without_augmentation')"
      ],
      "execution_count": null,
      "outputs": []
    },
    {
      "cell_type": "code",
      "metadata": {
        "id": "qcQu9OEPycho",
        "colab_type": "code",
        "colab": {}
      },
      "source": [
        "train_dir = os.path.join(base_dir, 'training')\n",
        "validation_dir = os.path.join(base_dir, 'validation')"
      ],
      "execution_count": null,
      "outputs": []
    },
    {
      "cell_type": "code",
      "metadata": {
        "id": "HuozalWOPK7A",
        "colab_type": "code",
        "colab": {
          "base_uri": "https://localhost:8080/",
          "height": 34
        },
        "outputId": "fe1cab28-1f4c-4eaf-cd41-3b2c76616bf3"
      },
      "source": [
        "cd /root/.keras/datasets/Plant_leave_diseases_dataset_without_augmentation/training"
      ],
      "execution_count": null,
      "outputs": [
        {
          "output_type": "stream",
          "text": [
            "/root/.keras/datasets/Plant_leave_diseases_dataset_without_augmentation/training\n"
          ],
          "name": "stdout"
        }
      ]
    },
    {
      "cell_type": "code",
      "metadata": {
        "id": "LZF1EHK581uY",
        "colab_type": "code",
        "colab": {
          "base_uri": "https://localhost:8080/",
          "height": 367
        },
        "outputId": "cc685189-c5c7-4ac1-a0da-5fc60fb8fab4"
      },
      "source": [
        "classes = [\n",
        "'Tomato___Bacterial_spot',\n",
        "'Tomato___Early_blight',\n",
        "'Tomato___healthy',\n",
        "'Tomato___Late_blight',\n",
        "'Tomato___Leaf_Mold',\n",
        "'Tomato___Septoria_leaf_spot',\n",
        "'Tomato___Spider_mites Two-spotted_spider_mite',\n",
        "'Tomato___Target_Spot',\n",
        "'Tomato___Tomato_mosaic_virus',\n",
        "'Tomato___Tomato_Yellow_Leaf_Curl_Virus',\n",
        "]\n",
        "\n",
        "import glob\n",
        "import shutil\n",
        "import matplotlib.pyplot as plt\n",
        "\n",
        "for cl in classes:\n",
        "  img_path = os.path.join(train_dir, cl)\n",
        "  images = glob.glob(img_path + '/*.JPG')\n",
        "  print(\"{}: {} Images\".format(cl, len(images)))\n",
        "  num_train = int(round(len(images)*0.8))\n",
        "  train, val = images[:num_train], images[num_train:]\n",
        "\n",
        "  for t in train:\n",
        "    if not os.path.exists(os.path.join(base_dir, 'train', cl)):\n",
        "      os.makedirs(os.path.join(base_dir, 'train', cl))\n",
        "    shutil.move(t, os.path.join(base_dir, 'train', cl))\n",
        "  \n",
        "  for v in val:\n",
        "    if not os.path.exists(os.path.join(base_dir, 'val', cl)):\n",
        "      os.makedirs(os.path.join(base_dir, 'val', cl))\n",
        "    shutil.move(v, os.path.join(base_dir, 'val', cl))"
      ],
      "execution_count": null,
      "outputs": [
        {
          "output_type": "stream",
          "text": [
            "Tomato___Bacterial_spot: 1599 Images\n"
          ],
          "name": "stdout"
        },
        {
          "output_type": "error",
          "ename": "Error",
          "evalue": "ignored",
          "traceback": [
            "\u001b[0;31m---------------------------------------------------------------------------\u001b[0m",
            "\u001b[0;31mError\u001b[0m                                     Traceback (most recent call last)",
            "\u001b[0;32m<ipython-input-27-fade33e4fb03>\u001b[0m in \u001b[0;36m<module>\u001b[0;34m()\u001b[0m\n\u001b[1;32m     26\u001b[0m     \u001b[0;32mif\u001b[0m \u001b[0;32mnot\u001b[0m \u001b[0mos\u001b[0m\u001b[0;34m.\u001b[0m\u001b[0mpath\u001b[0m\u001b[0;34m.\u001b[0m\u001b[0mexists\u001b[0m\u001b[0;34m(\u001b[0m\u001b[0mos\u001b[0m\u001b[0;34m.\u001b[0m\u001b[0mpath\u001b[0m\u001b[0;34m.\u001b[0m\u001b[0mjoin\u001b[0m\u001b[0;34m(\u001b[0m\u001b[0mbase_dir\u001b[0m\u001b[0;34m,\u001b[0m \u001b[0;34m'train'\u001b[0m\u001b[0;34m,\u001b[0m \u001b[0mcl\u001b[0m\u001b[0;34m)\u001b[0m\u001b[0;34m)\u001b[0m\u001b[0;34m:\u001b[0m\u001b[0;34m\u001b[0m\u001b[0;34m\u001b[0m\u001b[0m\n\u001b[1;32m     27\u001b[0m       \u001b[0mos\u001b[0m\u001b[0;34m.\u001b[0m\u001b[0mmakedirs\u001b[0m\u001b[0;34m(\u001b[0m\u001b[0mos\u001b[0m\u001b[0;34m.\u001b[0m\u001b[0mpath\u001b[0m\u001b[0;34m.\u001b[0m\u001b[0mjoin\u001b[0m\u001b[0;34m(\u001b[0m\u001b[0mbase_dir\u001b[0m\u001b[0;34m,\u001b[0m \u001b[0;34m'train'\u001b[0m\u001b[0;34m,\u001b[0m \u001b[0mcl\u001b[0m\u001b[0;34m)\u001b[0m\u001b[0;34m)\u001b[0m\u001b[0;34m\u001b[0m\u001b[0;34m\u001b[0m\u001b[0m\n\u001b[0;32m---> 28\u001b[0;31m     \u001b[0mshutil\u001b[0m\u001b[0;34m.\u001b[0m\u001b[0mmove\u001b[0m\u001b[0;34m(\u001b[0m\u001b[0mt\u001b[0m\u001b[0;34m,\u001b[0m \u001b[0mos\u001b[0m\u001b[0;34m.\u001b[0m\u001b[0mpath\u001b[0m\u001b[0;34m.\u001b[0m\u001b[0mjoin\u001b[0m\u001b[0;34m(\u001b[0m\u001b[0mbase_dir\u001b[0m\u001b[0;34m,\u001b[0m \u001b[0;34m'train'\u001b[0m\u001b[0;34m,\u001b[0m \u001b[0mcl\u001b[0m\u001b[0;34m)\u001b[0m\u001b[0;34m)\u001b[0m\u001b[0;34m\u001b[0m\u001b[0;34m\u001b[0m\u001b[0m\n\u001b[0m\u001b[1;32m     29\u001b[0m \u001b[0;34m\u001b[0m\u001b[0m\n\u001b[1;32m     30\u001b[0m   \u001b[0;32mfor\u001b[0m \u001b[0mv\u001b[0m \u001b[0;32min\u001b[0m \u001b[0mval\u001b[0m\u001b[0;34m:\u001b[0m\u001b[0;34m\u001b[0m\u001b[0;34m\u001b[0m\u001b[0m\n",
            "\u001b[0;32m/usr/lib/python3.6/shutil.py\u001b[0m in \u001b[0;36mmove\u001b[0;34m(src, dst, copy_function)\u001b[0m\n\u001b[1;32m    546\u001b[0m         \u001b[0mreal_dst\u001b[0m \u001b[0;34m=\u001b[0m \u001b[0mos\u001b[0m\u001b[0;34m.\u001b[0m\u001b[0mpath\u001b[0m\u001b[0;34m.\u001b[0m\u001b[0mjoin\u001b[0m\u001b[0;34m(\u001b[0m\u001b[0mdst\u001b[0m\u001b[0;34m,\u001b[0m \u001b[0m_basename\u001b[0m\u001b[0;34m(\u001b[0m\u001b[0msrc\u001b[0m\u001b[0;34m)\u001b[0m\u001b[0;34m)\u001b[0m\u001b[0;34m\u001b[0m\u001b[0;34m\u001b[0m\u001b[0m\n\u001b[1;32m    547\u001b[0m         \u001b[0;32mif\u001b[0m \u001b[0mos\u001b[0m\u001b[0;34m.\u001b[0m\u001b[0mpath\u001b[0m\u001b[0;34m.\u001b[0m\u001b[0mexists\u001b[0m\u001b[0;34m(\u001b[0m\u001b[0mreal_dst\u001b[0m\u001b[0;34m)\u001b[0m\u001b[0;34m:\u001b[0m\u001b[0;34m\u001b[0m\u001b[0;34m\u001b[0m\u001b[0m\n\u001b[0;32m--> 548\u001b[0;31m             \u001b[0;32mraise\u001b[0m \u001b[0mError\u001b[0m\u001b[0;34m(\u001b[0m\u001b[0;34m\"Destination path '%s' already exists\"\u001b[0m \u001b[0;34m%\u001b[0m \u001b[0mreal_dst\u001b[0m\u001b[0;34m)\u001b[0m\u001b[0;34m\u001b[0m\u001b[0;34m\u001b[0m\u001b[0m\n\u001b[0m\u001b[1;32m    549\u001b[0m     \u001b[0;32mtry\u001b[0m\u001b[0;34m:\u001b[0m\u001b[0;34m\u001b[0m\u001b[0;34m\u001b[0m\u001b[0m\n\u001b[1;32m    550\u001b[0m         \u001b[0mos\u001b[0m\u001b[0;34m.\u001b[0m\u001b[0mrename\u001b[0m\u001b[0;34m(\u001b[0m\u001b[0msrc\u001b[0m\u001b[0;34m,\u001b[0m \u001b[0mreal_dst\u001b[0m\u001b[0;34m)\u001b[0m\u001b[0;34m\u001b[0m\u001b[0;34m\u001b[0m\u001b[0m\n",
            "\u001b[0;31mError\u001b[0m: Destination path '/root/.keras/datasets/Plant_leave_diseases_dataset_without_augmentation/train/Tomato___Bacterial_spot/image (59).JPG' already exists"
          ]
        }
      ]
    },
    {
      "cell_type": "code",
      "metadata": {
        "id": "d6yTpPR_82yU",
        "colab_type": "code",
        "colab": {
          "base_uri": "https://localhost:8080/",
          "height": 51
        },
        "outputId": "d47bde20-f5c0-4b8e-a005-5daa6380676f"
      },
      "source": [
        "train_dir = os.path.join(base_dir, 'train')\n",
        "val_dir = os.path.join(base_dir, 'val')\n",
        "\n",
        "print(train_dir)\n",
        "print(val_dir)"
      ],
      "execution_count": null,
      "outputs": [
        {
          "output_type": "stream",
          "text": [
            "/root/.keras/datasets/Plant_leave_diseases_dataset_without_augmentation/train\n",
            "/root/.keras/datasets/Plant_leave_diseases_dataset_without_augmentation/val\n"
          ],
          "name": "stdout"
        }
      ]
    },
    {
      "cell_type": "code",
      "metadata": {
        "id": "7GF_za9Z84qr",
        "colab_type": "code",
        "colab": {}
      },
      "source": [
        "IMAGE_RES = 256\n",
        "\n",
        "def format_image(image, label):\n",
        "  image = tf.image.resize(image, (IMAGE_RES, IMAGE_RES))/255.0\n",
        "  return image, label\n",
        "\n",
        "BATCH_SIZE = 32"
      ],
      "execution_count": null,
      "outputs": []
    },
    {
      "cell_type": "code",
      "metadata": {
        "id": "0xdkvZS386WI",
        "colab_type": "code",
        "colab": {
          "base_uri": "https://localhost:8080/",
          "height": 34
        },
        "outputId": "b3155ff4-d46d-45a6-c3c6-53255ed0cf9a"
      },
      "source": [
        "image_gen_train = ImageDataGenerator(\n",
        "                    rescale=1./255,\n",
        "                    rotation_range=45,\n",
        "                    width_shift_range=.15,\n",
        "                    height_shift_range=.15,\n",
        "                    horizontal_flip=True,\n",
        "                    zoom_range=0.5\n",
        "                    )\n",
        "\n",
        "\n",
        "training_set = image_gen_train.flow_from_directory(\n",
        "                                                batch_size=BATCH_SIZE,\n",
        "                                                directory=train_dir,\n",
        "                                                shuffle=True,\n",
        "                                                target_size=(IMAGE_RES,IMAGE_RES),\n",
        "                                                class_mode='sparse'\n",
        "                                                )"
      ],
      "execution_count": null,
      "outputs": [
        {
          "output_type": "stream",
          "text": [
            "Found 8497 images belonging to 10 classes.\n"
          ],
          "name": "stdout"
        }
      ]
    },
    {
      "cell_type": "code",
      "metadata": {
        "id": "01oDsFSJ89Iz",
        "colab_type": "code",
        "colab": {}
      },
      "source": [
        "def plotImages(images_arr):\n",
        "    fig, axes = plt.subplots(1, 5, figsize=(20,20))\n",
        "    axes = axes.flatten()\n",
        "    for img, ax in zip( images_arr, axes):\n",
        "        ax.imshow(img)\n",
        "    plt.tight_layout()\n",
        "    plt.show()"
      ],
      "execution_count": null,
      "outputs": []
    },
    {
      "cell_type": "code",
      "metadata": {
        "id": "dNxKdWTu8_0i",
        "colab_type": "code",
        "colab": {
          "base_uri": "https://localhost:8080/",
          "height": 34
        },
        "outputId": "378125dd-0b3d-4852-a9d3-8c84e6a50588"
      },
      "source": [
        "image_gen_val = ImageDataGenerator(rescale=1./255)\n",
        "\n",
        "validation_set = image_gen_val.flow_from_directory(batch_size=BATCH_SIZE,\n",
        "                                                 directory=val_dir,\n",
        "                                                 target_size=(IMAGE_RES, IMAGE_RES),\n",
        "                                                 class_mode='sparse')\n",
        "plt.show()"
      ],
      "execution_count": null,
      "outputs": [
        {
          "output_type": "stream",
          "text": [
            "Found 2126 images belonging to 10 classes.\n"
          ],
          "name": "stdout"
        }
      ]
    },
    {
      "cell_type": "code",
      "metadata": {
        "id": "UKsrh39R9B-h",
        "colab_type": "code",
        "colab": {}
      },
      "source": [
        "URL = \"https://tfhub.dev/google/tf2-preview/mobilenet_v2/feature_vector/4\"\n",
        "feature_extractor = hub.KerasLayer(URL,\n",
        "                                   input_shape=(IMAGE_RES, IMAGE_RES, 3))"
      ],
      "execution_count": null,
      "outputs": []
    },
    {
      "cell_type": "code",
      "metadata": {
        "id": "me4NNbDz9D1c",
        "colab_type": "code",
        "colab": {}
      },
      "source": [
        "#Freezing transfer learning model to prevent training and overfitting\n",
        "feature_extractor.trainable = False"
      ],
      "execution_count": null,
      "outputs": []
    },
    {
      "cell_type": "code",
      "metadata": {
        "id": "GTCotQLP9F70",
        "colab_type": "code",
        "colab": {
          "base_uri": "https://localhost:8080/",
          "height": 34
        },
        "outputId": "2f95feb6-add3-44dc-f4da-3abc71ced1a6"
      },
      "source": [
        "num_classes = 0 \n",
        "for i in classes:\n",
        "  num_classes+=1\n",
        "\n",
        "print('NUM CLASSES',num_classes)"
      ],
      "execution_count": null,
      "outputs": [
        {
          "output_type": "stream",
          "text": [
            "NUM CLASSES 10\n"
          ],
          "name": "stdout"
        }
      ]
    },
    {
      "cell_type": "code",
      "metadata": {
        "id": "nzt-cu0x9I1R",
        "colab_type": "code",
        "colab": {
          "base_uri": "https://localhost:8080/",
          "height": 629
        },
        "outputId": "49580f86-ddcc-487f-9ecd-cb0094c4bbf6"
      },
      "source": [
        "model = tf.keras.Sequential()\n",
        "model.add(tf.keras.layers.Conv2D(32, (3,3),  padding=\"same\", activation='relu', input_shape=(IMAGE_RES,IMAGE_RES,3)))\n",
        "model.add(tf.keras.layers.Conv2D(32, (3,3), activation='relu'))\n",
        "model.add(tf.keras.layers.MaxPooling2D(pool_size = (2, 2)))\n",
        "model.add(tf.keras.layers.Dropout(0.25))\n",
        "model.add(tf.keras.layers.Conv2D(64, (3,3),  padding=\"same\", activation='relu'))\n",
        "model.add(tf.keras.layers.Conv2D(64, (3,3), activation='relu'))\n",
        "model.add(tf.keras.layers.MaxPooling2D(pool_size = (2, 2)))\n",
        "model.add(tf.keras.layers.Dropout(0.25))\n",
        "model.add(tf.keras.layers.Conv2D(128, (3,3),  padding=\"same\", activation='relu'))\n",
        "model.add(tf.keras.layers.Conv2D(128, (3,3), activation='relu'))\n",
        "model.add(tf.keras.layers.MaxPooling2D(pool_size = (4, 4)))\n",
        "model.add(tf.keras.layers.Dropout(0.25))\n",
        "model.add(tf.keras.layers.Flatten())\n",
        "model.add(tf.keras.layers.Dense(num_classes))\n",
        "\n",
        "model.summary()"
      ],
      "execution_count": null,
      "outputs": [
        {
          "output_type": "stream",
          "text": [
            "Model: \"sequential_8\"\n",
            "_________________________________________________________________\n",
            "Layer (type)                 Output Shape              Param #   \n",
            "=================================================================\n",
            "conv2d_46 (Conv2D)           (None, 256, 256, 32)      896       \n",
            "_________________________________________________________________\n",
            "conv2d_47 (Conv2D)           (None, 254, 254, 32)      9248      \n",
            "_________________________________________________________________\n",
            "max_pooling2d_19 (MaxPooling (None, 127, 127, 32)      0         \n",
            "_________________________________________________________________\n",
            "dropout_19 (Dropout)         (None, 127, 127, 32)      0         \n",
            "_________________________________________________________________\n",
            "conv2d_48 (Conv2D)           (None, 127, 127, 64)      18496     \n",
            "_________________________________________________________________\n",
            "conv2d_49 (Conv2D)           (None, 125, 125, 64)      36928     \n",
            "_________________________________________________________________\n",
            "max_pooling2d_20 (MaxPooling (None, 62, 62, 64)        0         \n",
            "_________________________________________________________________\n",
            "dropout_20 (Dropout)         (None, 62, 62, 64)        0         \n",
            "_________________________________________________________________\n",
            "conv2d_50 (Conv2D)           (None, 62, 62, 128)       73856     \n",
            "_________________________________________________________________\n",
            "conv2d_51 (Conv2D)           (None, 60, 60, 128)       147584    \n",
            "_________________________________________________________________\n",
            "max_pooling2d_21 (MaxPooling (None, 15, 15, 128)       0         \n",
            "_________________________________________________________________\n",
            "dropout_21 (Dropout)         (None, 15, 15, 128)       0         \n",
            "_________________________________________________________________\n",
            "flatten_6 (Flatten)          (None, 28800)             0         \n",
            "_________________________________________________________________\n",
            "dense_6 (Dense)              (None, 10)                288010    \n",
            "=================================================================\n",
            "Total params: 575,018\n",
            "Trainable params: 575,018\n",
            "Non-trainable params: 0\n",
            "_________________________________________________________________\n"
          ],
          "name": "stdout"
        }
      ]
    },
    {
      "cell_type": "code",
      "metadata": {
        "id": "1BkRYVjU9KoS",
        "colab_type": "code",
        "colab": {
          "base_uri": "https://localhost:8080/",
          "height": 1000
        },
        "outputId": "0d39f4e8-1f25-4ab9-c958-84485c5ebc7f"
      },
      "source": [
        "#Training model \n",
        "model.compile(\n",
        "  optimizer='adam',\n",
        "  loss=tf.keras.losses.SparseCategoricalCrossentropy(from_logits=True),\n",
        "  metrics=['accuracy'])\n",
        "\n",
        "EPOCHS = 30\n",
        "\n",
        "history = model.fit(training_set,\n",
        "                    epochs=EPOCHS,\n",
        "                    validation_data=validation_set)"
      ],
      "execution_count": null,
      "outputs": [
        {
          "output_type": "stream",
          "text": [
            "Epoch 1/30\n",
            "266/266 [==============================] - 125s 471ms/step - loss: 1.9018 - accuracy: 0.3068 - val_loss: 1.3589 - val_accuracy: 0.4962\n",
            "Epoch 2/30\n",
            "266/266 [==============================] - 125s 469ms/step - loss: 1.3683 - accuracy: 0.5091 - val_loss: 1.0585 - val_accuracy: 0.6406\n",
            "Epoch 3/30\n",
            "266/266 [==============================] - 124s 467ms/step - loss: 1.1362 - accuracy: 0.5972 - val_loss: 0.9458 - val_accuracy: 0.6679\n",
            "Epoch 4/30\n",
            "266/266 [==============================] - 124s 468ms/step - loss: 0.8747 - accuracy: 0.6953 - val_loss: 1.3278 - val_accuracy: 0.6538\n",
            "Epoch 5/30\n",
            "266/266 [==============================] - 125s 468ms/step - loss: 0.7466 - accuracy: 0.7406 - val_loss: 0.7258 - val_accuracy: 0.7700\n",
            "Epoch 6/30\n",
            "266/266 [==============================] - 124s 467ms/step - loss: 0.6248 - accuracy: 0.7886 - val_loss: 0.4871 - val_accuracy: 0.8401\n",
            "Epoch 7/30\n",
            "266/266 [==============================] - 124s 468ms/step - loss: 0.5723 - accuracy: 0.8055 - val_loss: 0.5610 - val_accuracy: 0.8231\n",
            "Epoch 8/30\n",
            "266/266 [==============================] - 124s 467ms/step - loss: 0.4952 - accuracy: 0.8361 - val_loss: 0.3793 - val_accuracy: 0.8622\n",
            "Epoch 9/30\n",
            "266/266 [==============================] - 124s 467ms/step - loss: 0.4656 - accuracy: 0.8405 - val_loss: 0.3788 - val_accuracy: 0.8725\n",
            "Epoch 10/30\n",
            "266/266 [==============================] - 124s 467ms/step - loss: 0.4398 - accuracy: 0.8531 - val_loss: 0.4930 - val_accuracy: 0.8528\n",
            "Epoch 11/30\n",
            "266/266 [==============================] - 124s 466ms/step - loss: 0.3946 - accuracy: 0.8641 - val_loss: 0.3428 - val_accuracy: 0.8843\n",
            "Epoch 12/30\n",
            "266/266 [==============================] - 124s 467ms/step - loss: 0.4112 - accuracy: 0.8604 - val_loss: 0.3918 - val_accuracy: 0.8810\n",
            "Epoch 13/30\n",
            "266/266 [==============================] - 123s 464ms/step - loss: 0.3778 - accuracy: 0.8729 - val_loss: 0.4315 - val_accuracy: 0.8547\n",
            "Epoch 14/30\n",
            "266/266 [==============================] - 124s 464ms/step - loss: 0.3252 - accuracy: 0.8920 - val_loss: 0.3114 - val_accuracy: 0.8909\n",
            "Epoch 15/30\n",
            "266/266 [==============================] - 123s 464ms/step - loss: 0.3184 - accuracy: 0.8933 - val_loss: 0.3644 - val_accuracy: 0.8739\n",
            "Epoch 16/30\n",
            "266/266 [==============================] - 124s 465ms/step - loss: 0.3106 - accuracy: 0.8986 - val_loss: 0.4601 - val_accuracy: 0.8429\n",
            "Epoch 17/30\n",
            "266/266 [==============================] - 123s 464ms/step - loss: 0.2918 - accuracy: 0.9010 - val_loss: 0.3481 - val_accuracy: 0.8706\n",
            "Epoch 18/30\n",
            "266/266 [==============================] - 123s 463ms/step - loss: 0.2705 - accuracy: 0.9113 - val_loss: 0.1750 - val_accuracy: 0.9356\n",
            "Epoch 19/30\n",
            "266/266 [==============================] - 123s 464ms/step - loss: 0.2608 - accuracy: 0.9144 - val_loss: 0.5346 - val_accuracy: 0.8170\n",
            "Epoch 20/30\n",
            "266/266 [==============================] - 124s 465ms/step - loss: 0.2747 - accuracy: 0.9103 - val_loss: 0.2206 - val_accuracy: 0.9257\n",
            "Epoch 21/30\n",
            "266/266 [==============================] - 124s 465ms/step - loss: 0.2342 - accuracy: 0.9217 - val_loss: 0.2308 - val_accuracy: 0.9219\n",
            "Epoch 22/30\n",
            "266/266 [==============================] - 124s 464ms/step - loss: 0.2495 - accuracy: 0.9123 - val_loss: 0.2476 - val_accuracy: 0.9196\n",
            "Epoch 23/30\n",
            "266/266 [==============================] - 123s 464ms/step - loss: 0.2225 - accuracy: 0.9254 - val_loss: 0.3271 - val_accuracy: 0.8895\n",
            "Epoch 24/30\n",
            "266/266 [==============================] - 124s 465ms/step - loss: 0.2364 - accuracy: 0.9200 - val_loss: 0.3826 - val_accuracy: 0.8768\n",
            "Epoch 25/30\n",
            "266/266 [==============================] - 124s 464ms/step - loss: 0.2451 - accuracy: 0.9163 - val_loss: 0.2783 - val_accuracy: 0.9163\n",
            "Epoch 26/30\n",
            "266/266 [==============================] - 123s 463ms/step - loss: 0.2197 - accuracy: 0.9235 - val_loss: 0.1998 - val_accuracy: 0.9398\n",
            "Epoch 27/30\n",
            "266/266 [==============================] - 123s 464ms/step - loss: 0.1973 - accuracy: 0.9334 - val_loss: 0.1623 - val_accuracy: 0.9374\n",
            "Epoch 28/30\n",
            "266/266 [==============================] - 123s 464ms/step - loss: 0.2127 - accuracy: 0.9290 - val_loss: 0.1713 - val_accuracy: 0.9421\n",
            "Epoch 29/30\n",
            "266/266 [==============================] - 123s 463ms/step - loss: 0.2076 - accuracy: 0.9304 - val_loss: 0.2274 - val_accuracy: 0.9276\n",
            "Epoch 30/30\n",
            "266/266 [==============================] - 123s 463ms/step - loss: 0.2193 - accuracy: 0.9286 - val_loss: 0.2418 - val_accuracy: 0.9172\n"
          ],
          "name": "stdout"
        }
      ]
    },
    {
      "cell_type": "code",
      "metadata": {
        "id": "wfSqID3V9MoK",
        "colab_type": "code",
        "colab": {}
      },
      "source": [
        "model.save_weights(\"model_weights.h5\")"
      ],
      "execution_count": null,
      "outputs": []
    },
    {
      "cell_type": "code",
      "metadata": {
        "id": "z3qMHPYWb3o-",
        "colab_type": "code",
        "colab": {}
      },
      "source": [
        "acc = history.history['accuracy']\n",
        "val_acc = history.history['val_accuracy']\n",
        "\n",
        "loss = history.history['loss']\n",
        "val_loss = history.history['val_loss']\n",
        "\n",
        "epochs_range = range(EPOCHS)\n",
        "\n",
        "plt.figure(figsize=(8, 8))\n",
        "plt.subplot(1, 2, 1)\n",
        "plt.plot(epochs_range, acc, label='Training Accuracy')\n",
        "plt.plot(epochs_range, val_acc, label='Validation Accuracy')\n",
        "plt.legend(loc='lower right')\n",
        "plt.title('Training and Validation Accuracy')\n",
        "\n",
        "plt.subplot(1, 2, 2)\n",
        "plt.plot(epochs_range, loss, label='Training Loss')\n",
        "plt.plot(epochs_range, val_loss, label='Validation Loss')\n",
        "plt.legend(loc='upper right')\n",
        "plt.title('Training and Validation Loss')\n",
        "plt.show()"
      ],
      "execution_count": null,
      "outputs": []
    },
    {
      "cell_type": "code",
      "metadata": {
        "id": "sofexwAQb6cl",
        "colab_type": "code",
        "colab": {}
      },
      "source": [
        "export_path_keras = './1592281759.h5'\n",
        "\n",
        "reloaded = tf.keras.models.load_model(\n",
        "  export_path_keras, \n",
        "  # `custom_objects` tells keras how to load a `hub.KerasLayer`\n",
        "  custom_objects={'KerasLayer': hub.KerasLayer})\n",
        "\n",
        "reloaded.summary()"
      ],
      "execution_count": null,
      "outputs": []
    },
    {
      "cell_type": "code",
      "metadata": {
        "id": "fSO3pdjpb8p3",
        "colab_type": "code",
        "colab": {}
      },
      "source": [
        "import time\n",
        "\n",
        "t = time.time()\n",
        "\n",
        "export_path_sm = \"./{}\".format(int(t))\n",
        "print(export_path_sm)\n",
        "\n",
        "tf.saved_model.save(reloaded, export_path_sm)"
      ],
      "execution_count": null,
      "outputs": []
    },
    {
      "cell_type": "code",
      "metadata": {
        "id": "JYsBInlVW1Fu",
        "colab_type": "code",
        "colab": {}
      },
      "source": [
        "\n",
        "converter = tf.lite.TFLiteConverter.from_saved_model(export_path_sm)\n",
        "converter.optimizations = [tf.lite.Optimize.DEFAULT]\n",
        "\n",
        "\n",
        "converter.inference_input_type = tf.uint8  # or tf.uint8\n",
        "converter.inference_output_type = tf.uint8\n",
        "\n",
        "tflite_quant_model = converter.convert()\n",
        "\n",
        "open(\"converted_model.tflite\", \"wb\").write(tflite_quant_model)"
      ],
      "execution_count": null,
      "outputs": []
    },
    {
      "cell_type": "code",
      "metadata": {
        "id": "MOj0nTvrW58_",
        "colab_type": "code",
        "colab": {}
      },
      "source": [
        "class_names = np.array(classes)\n",
        "\n",
        "print(class_names)"
      ],
      "execution_count": null,
      "outputs": []
    },
    {
      "cell_type": "code",
      "metadata": {
        "id": "HMUI7AwEW6s2",
        "colab_type": "code",
        "colab": {}
      },
      "source": [
        "image_batch, label_batch = next(iter(validation_set))\n",
        "\n",
        "predicted_batch = model.predict(image_batch)\n",
        "predicted_batch = tf.squeeze(predicted_batch).numpy()\n",
        "predicted_ids = np.argmax(predicted_batch, axis=-1)\n",
        "predicted_class_names = class_names[predicted_ids]\n",
        "\n",
        "print(predicted_class_names)"
      ],
      "execution_count": null,
      "outputs": []
    },
    {
      "cell_type": "code",
      "metadata": {
        "id": "z_goVbpfW9lL",
        "colab_type": "code",
        "colab": {}
      },
      "source": [
        "print(\"Labels:           \", label_batch)\n",
        "print(\"Predicted labels: \", predicted_ids)"
      ],
      "execution_count": null,
      "outputs": []
    },
    {
      "cell_type": "code",
      "metadata": {
        "id": "_4QpbLF7W_P9",
        "colab_type": "code",
        "colab": {}
      },
      "source": [
        "plt.figure(figsize=(10,9))\n",
        "for n in range(30):\n",
        "  plt.subplot(6,5,n+1)\n",
        "  plt.subplots_adjust(hspace = 0.3)\n",
        "  plt.imshow(image_batch[n])\n",
        "  color = \"blue\" if predicted_ids[n] == label_batch[n] else \"red\"\n",
        "  plt.title(predicted_class_names[n].title(), color=color)\n",
        "  plt.axis('off')\n",
        "_ = plt.suptitle(\"Model predictions (blue: correct, red: incorrect)\")"
      ],
      "execution_count": null,
      "outputs": []
    }
  ]
}